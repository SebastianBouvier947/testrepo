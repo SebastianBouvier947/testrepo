{
    "cells": [
        {
            "cell_type": "markdown",
            "metadata": {},
            "source": "# My Jupyter Notebook on IBM Watson Studio"
        },
        {
            "cell_type": "markdown",
            "metadata": {},
            "source": "\n**Sebastian Bouvier**\n\nManagement consultant Analytics and Data\n"
        },
        {
            "cell_type": "markdown",
            "metadata": {},
            "source": "\n_Using analytics to solve real business problems and to create efficiencies is really cool_\n"
        },
        {
            "cell_type": "markdown",
            "metadata": {},
            "source": "### Below code will print \"hello world\"\n"
        },
        {
            "cell_type": "code",
            "execution_count": 6,
            "metadata": {},
            "outputs": [
                {
                    "name": "stdout",
                    "output_type": "stream",
                    "text": "hello world\n"
                }
            ],
            "source": "\nprint (\"hello world\")"
        },
        {
            "cell_type": "markdown",
            "metadata": {},
            "source": "\n1. Hello\n2. World\n3. Whats\n4. Your\n5. Name?\n\n[I'm an inline-style link](https://www.google.com)\n\n\n* 1\n* 2\n* 3\n* 4"
        },
        {
            "cell_type": "code",
            "execution_count": null,
            "metadata": {},
            "outputs": [],
            "source": ""
        },
        {
            "cell_type": "code",
            "execution_count": null,
            "metadata": {},
            "outputs": [],
            "source": ""
        }
    ],
    "metadata": {
        "kernelspec": {
            "display_name": "Python 3.9",
            "language": "python",
            "name": "python3"
        },
        "language_info": {
            "codemirror_mode": {
                "name": "ipython",
                "version": 3
            },
            "file_extension": ".py",
            "mimetype": "text/x-python",
            "name": "python",
            "nbconvert_exporter": "python",
            "pygments_lexer": "ipython3",
            "version": "3.9.13"
        }
    },
    "nbformat": 4,
    "nbformat_minor": 1
}